{
  "nbformat": 4,
  "nbformat_minor": 0,
  "metadata": {
    "colab": {
      "provenance": [],
      "collapsed_sections": [],
      "authorship_tag": "ABX9TyMMbNLRbG0Xm5SyHoNC69JU",
      "include_colab_link": true
    },
    "kernelspec": {
      "name": "python3",
      "display_name": "Python 3"
    },
    "language_info": {
      "name": "python"
    }
  },
  "cells": [
    {
      "cell_type": "markdown",
      "metadata": {
        "id": "view-in-github",
        "colab_type": "text"
      },
      "source": [
        "<a href=\"https://colab.research.google.com/github/GMiguel99/GMiguel99/blob/main/1a%20aula%20de%20python.ipynb\" target=\"_parent\"><img src=\"https://colab.research.google.com/assets/colab-badge.svg\" alt=\"Open In Colab\"/></a>"
      ]
    },
    {
      "cell_type": "markdown",
      "source": [
        "Módulo 1 - Python para análise de dados - EBAC\n",
        "\n",
        "1°s testes\n",
        "\n",
        "Testando o notebook"
      ],
      "metadata": {
        "id": "oje8WfQbAhhq"
      }
    },
    {
      "cell_type": "code",
      "source": [
        "print(\"Olá Mundo!\")"
      ],
      "metadata": {
        "colab": {
          "base_uri": "https://localhost:8080/"
        },
        "id": "iq190AMeA-Qc",
        "outputId": "af610a9a-20bb-4c6a-b88f-4de6d176ffac"
      },
      "execution_count": 5,
      "outputs": [
        {
          "output_type": "stream",
          "name": "stdout",
          "text": [
            "Olá Mundo!\n"
          ]
        }
      ]
    },
    {
      "cell_type": "code",
      "execution_count": 1,
      "metadata": {
        "colab": {
          "base_uri": "https://localhost:8080/"
        },
        "id": "6tV_X9r0_xgO",
        "outputId": "dc239c90-16cd-488b-90f2-d6794c441c90"
      },
      "outputs": [
        {
          "output_type": "stream",
          "name": "stdout",
          "text": [
            "30\n"
          ]
        }
      ],
      "source": [
        "idade = 30\n",
        "print(idade)"
      ]
    },
    {
      "cell_type": "code",
      "source": [
        "juros = 0.05\n",
        "tipo_juros = type(juros)\n",
        "\n",
        "print(juros)\n",
        "print(tipo_juros)"
      ],
      "metadata": {
        "colab": {
          "base_uri": "https://localhost:8080/"
        },
        "id": "d5WJol08ALOK",
        "outputId": "e0377719-c7df-4266-a28a-e1474baffa3f"
      },
      "execution_count": 2,
      "outputs": [
        {
          "output_type": "stream",
          "name": "stdout",
          "text": [
            "0.05\n",
            "<class 'float'>\n"
          ]
        }
      ]
    },
    {
      "cell_type": "code",
      "source": [
        "juros = 0.05\n",
        "print(juros)\n",
        "print(type(juros))"
      ],
      "metadata": {
        "colab": {
          "base_uri": "https://localhost:8080/"
        },
        "id": "w1f_CHw3AxLF",
        "outputId": "65749833-3f35-45d0-ab95-fbb40c648881"
      },
      "execution_count": 4,
      "outputs": [
        {
          "output_type": "stream",
          "name": "stdout",
          "text": [
            "0.05\n",
            "<class 'float'>\n"
          ]
        }
      ]
    }
  ]
}